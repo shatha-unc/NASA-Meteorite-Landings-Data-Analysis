{
 "cells": [
  {
   "cell_type": "markdown",
   "metadata": {},
   "source": [
    "Load and Explore Data"
   ]
  },
  {
   "cell_type": "code",
   "execution_count": 7,
   "metadata": {},
   "outputs": [
    {
     "name": "stdout",
     "output_type": "stream",
     "text": [
      "Initial Dataset Info:\n",
      "<class 'pandas.core.frame.DataFrame'>\n",
      "RangeIndex: 45716 entries, 0 to 45715\n",
      "Data columns (total 10 columns):\n",
      " #   Column       Non-Null Count  Dtype  \n",
      "---  ------       --------------  -----  \n",
      " 0   name         45716 non-null  object \n",
      " 1   id           45716 non-null  int64  \n",
      " 2   nametype     45716 non-null  object \n",
      " 3   recclass     45716 non-null  object \n",
      " 4   mass (g)     45585 non-null  float64\n",
      " 5   fall         45716 non-null  object \n",
      " 6   year         45425 non-null  float64\n",
      " 7   reclat       38401 non-null  float64\n",
      " 8   reclong      38401 non-null  float64\n",
      " 9   GeoLocation  38401 non-null  object \n",
      "dtypes: float64(4), int64(1), object(5)\n",
      "memory usage: 3.5+ MB\n",
      "None\n",
      "       name   id nametype     recclass  mass (g)  fall    year    reclat  \\\n",
      "0    Aachen    1    Valid           L5      21.0  Fell  1880.0  50.77500   \n",
      "1    Aarhus    2    Valid           H6     720.0  Fell  1951.0  56.18333   \n",
      "2      Abee    6    Valid          EH4  107000.0  Fell  1952.0  54.21667   \n",
      "3  Acapulco   10    Valid  Acapulcoite    1914.0  Fell  1976.0  16.88333   \n",
      "4   Achiras  370    Valid           L6     780.0  Fell  1902.0 -33.16667   \n",
      "\n",
      "     reclong           GeoLocation  \n",
      "0    6.08333     (50.775, 6.08333)  \n",
      "1   10.23333  (56.18333, 10.23333)  \n",
      "2 -113.00000    (54.21667, -113.0)  \n",
      "3  -99.90000     (16.88333, -99.9)  \n",
      "4  -64.95000   (-33.16667, -64.95)  \n"
     ]
    }
   ],
   "source": [
    "import pandas as pd\n",
    "import numpy as np\n",
    "from mlxtend.frequent_patterns import apriori, association_rules\n",
    "from mlxtend.preprocessing import TransactionEncoder\n",
    "import matplotlib.pyplot as plt\n",
    "\n",
    "# Load and Explore Data\n",
    "data = pd.read_csv(\"Meteorite_Landings.csv\")\n",
    "print(\"Initial Dataset Info:\")\n",
    "print(data.info())\n",
    "print(data.head())"
   ]
  },
  {
   "cell_type": "markdown",
   "metadata": {},
   "source": [
    "Clean The Data"
   ]
  },
  {
   "cell_type": "code",
   "execution_count": null,
   "metadata": {},
   "outputs": [
    {
     "name": "stderr",
     "output_type": "stream",
     "text": [
      "C:\\Users\\shatha\\AppData\\Local\\Temp\\ipykernel_13596\\453287237.py:2: SettingWithCopyWarning: \n",
      "A value is trying to be set on a copy of a slice from a DataFrame.\n",
      "Try using .loc[row_indexer,col_indexer] = value instead\n",
      "\n",
      "See the caveats in the documentation: https://pandas.pydata.org/pandas-docs/stable/user_guide/indexing.html#returning-a-view-versus-a-copy\n",
      "  data_cleaned['year'] = data_cleaned['year'].astype(int)\n",
      "C:\\Users\\shatha\\AppData\\Local\\Temp\\ipykernel_13596\\453287237.py:3: SettingWithCopyWarning: \n",
      "A value is trying to be set on a copy of a slice from a DataFrame.\n",
      "Try using .loc[row_indexer,col_indexer] = value instead\n",
      "\n",
      "See the caveats in the documentation: https://pandas.pydata.org/pandas-docs/stable/user_guide/indexing.html#returning-a-view-versus-a-copy\n",
      "  data_cleaned['mass (g)'] = data_cleaned['mass (g)'].astype(float)\n"
     ]
    }
   ],
   "source": [
    "# Drop rows with missing critical data (Latitute, longitude, mass, year)\n",
    "data_cleaned = data.dropna(subset=['reclat', 'reclong', 'mass (g)', 'year'])\n",
    "\n",
    "# Convert 'year' to an integer type and 'mass (g)' to float\n",
    "data_cleaned['year'] = data_cleaned['year'].astype(int)\n",
    "data_cleaned['mass (g)'] = data_cleaned['mass (g)'].astype(float)\n",
    "\n",
    "# Check for duplicates and drop them\n",
    "data_cleaned = data_cleaned.drop_duplicates()"
   ]
  },
  {
   "cell_type": "markdown",
   "metadata": {},
   "source": [
    "Bin Year and Mass"
   ]
  },
  {
   "cell_type": "code",
   "execution_count": null,
   "metadata": {},
   "outputs": [],
   "source": [
    "# Bin year into intervals\n",
    "def bin_year(year):\n",
    "    if year == 0:\n",
    "        return 'Unknown'\n",
    "    elif year < 1900:\n",
    "        return 'Pre-1900'\n",
    "    elif 1900 <= year < 2000:\n",
    "        return '1900-2000'\n",
    "    else:\n",
    "        return 'Post-2000'\n",
    "\n",
    "# Bin mass into categories\n",
    "def bin_mass(mass):\n",
    "    if mass == 0:\n",
    "        return 'Unknown'\n",
    "    elif mass < 1000:\n",
    "        return 'Small'\n",
    "    elif 1000 <= mass < 5000:\n",
    "        return 'Medium'\n",
    "    else:\n",
    "        return 'Large'\n",
    "\n",
    "data_cleaned['year_bin'] = data_cleaned['year'].apply(bin_year)\n",
    "data_cleaned['mass_category'] = data_cleaned['mass (g)'].apply(bin_mass)\n"
   ]
  },
  {
   "cell_type": "markdown",
   "metadata": {},
   "source": [
    "Visualize Year Bins"
   ]
  },
  {
   "cell_type": "code",
   "execution_count": 12,
   "metadata": {},
   "outputs": [
    {
     "data": {
      "image/png": "[encoded data removed]",
      "text/plain": [
       "<Figure size 800x500 with 1 Axes>"
      ]
     },
     "metadata": {},
     "output_type": "display_data"
    }
   ],
   "source": [
    "plt.figure(figsize=(8,5))\n",
    "data_cleaned['year_bin'].value_counts().plot(kind='bar', title='Meteorite Landings by Year Bin')\n",
    "plt.ylabel(\"Number of Meteorites\")\n",
    "plt.xlabel(\"Year Bin\")\n",
    "plt.tight_layout()\n",
    "plt.show()"
   ]
  },
  {
   "cell_type": "markdown",
   "metadata": {},
   "source": [
    "Association Rule Mining for Pre-1900"
   ]
  },
  {
   "cell_type": "code",
   "execution_count": null,
   "metadata": {},
   "outputs": [
    {
     "name": "stdout",
     "output_type": "stream",
     "text": [
      "Top Rules for Pre-1900 Meteorites:\n",
      "                 antecedents               consequents   support  confidence  \\\n",
      "77             (Iron, IIIAB)            (Found, Large)  0.092068    0.822785   \n",
      "72            (Found, Large)             (Iron, IIIAB)  0.092068    0.298165   \n",
      "130            (Iron, IIIAB)  (Found, Large, Pre-1900)  0.092068    0.822785   \n",
      "125  (Pre-1900, Iron, IIIAB)            (Found, Large)  0.092068    0.822785   \n",
      "124           (Found, Large)   (Pre-1900, Iron, IIIAB)  0.092068    0.298165   \n",
      "\n",
      "         lift  \n",
      "77   2.664615  \n",
      "72   2.664615  \n",
      "130  2.664615  \n",
      "125  2.664615  \n",
      "124  2.664615  \n"
     ]
    },
    {
     "name": "stderr",
     "output_type": "stream",
     "text": [
      "c:\\Users\\shatha\\AppData\\Local\\Programs\\Python\\Python311\\Lib\\site-packages\\mlxtend\\frequent_patterns\\association_rules.py:182: RuntimeWarning: invalid value encountered in divide\n",
      "  cert_metric = np.where(certainty_denom == 0, 0, certainty_num / certainty_denom)\n"
     ]
    }
   ],
   "source": [
    "# Filter data for pre-1900 meteorites\n",
    "pre_1900_data = data_cleaned[data_cleaned['year_bin'] == 'Pre-1900']\n",
    "pre_1900_transactions = pre_1900_data[['recclass', 'mass_category', 'fall', 'year_bin']].astype(str).values.tolist()\n",
    "\n",
    "# Encode transactions\n",
    "te = TransactionEncoder()\n",
    "pre_1900_encoded = te.fit(pre_1900_transactions).transform(pre_1900_transactions)\n",
    "pre_1900_df = pd.DataFrame(pre_1900_encoded, columns=te.columns_)\n",
    "\n",
    "# Generate frequent itemsets and association rules\n",
    "pre_1900_itemsets = apriori(pre_1900_df, min_support=0.05, use_colnames=True)\n",
    "pre_1900_rules = association_rules(pre_1900_itemsets, metric=\"lift\", min_threshold=1.0, num_itemsets=len(pre_1900_df))\n",
    "\n",
    "print(\"Top Rules for Pre-1900 Meteorites:\")\n",
    "print(pre_1900_rules[['antecedents', 'consequents', 'support', 'confidence', 'lift']].sort_values(by='lift', ascending=False).head())"
   ]
  },
  {
   "cell_type": "markdown",
   "metadata": {},
   "source": [
    "Association Rule Mining for 'Fell' Meteorites"
   ]
  },
  {
   "cell_type": "code",
   "execution_count": null,
   "metadata": {},
   "outputs": [
    {
     "name": "stdout",
     "output_type": "stream",
     "text": [
      "Top Rules for 'Fell' Meteorites:\n",
      "         antecedents            consequents   support  confidence      lift\n",
      "123         (Medium)  (Fell, 1900-2000, L6)  0.050704    0.159292  1.178097\n",
      "61          (Medium)        (1900-2000, L6)  0.050704    0.159292  1.178097\n",
      "115  (1900-2000, L6)         (Medium, Fell)  0.050704    0.375000  1.178097\n",
      "118   (Medium, Fell)        (1900-2000, L6)  0.050704    0.159292  1.178097\n",
      "56   (1900-2000, L6)               (Medium)  0.050704    0.375000  1.178097\n"
     ]
    },
    {
     "name": "stderr",
     "output_type": "stream",
     "text": [
      "c:\\Users\\shatha\\AppData\\Local\\Programs\\Python\\Python311\\Lib\\site-packages\\mlxtend\\frequent_patterns\\association_rules.py:182: RuntimeWarning: invalid value encountered in divide\n",
      "  cert_metric = np.where(certainty_denom == 0, 0, certainty_num / certainty_denom)\n"
     ]
    }
   ],
   "source": [
    "# Filter data for \"Fell\" meteorites\n",
    "fell_data = data_cleaned[data_cleaned['fall'] == 'Fell']\n",
    "fell_transactions = fell_data[['recclass', 'mass_category', 'fall', 'year_bin']].astype(str).values.tolist()\n",
    "\n",
    "# Encode transcations\n",
    "fell_encoded = te.fit(fell_transactions).transform(fell_transactions)\n",
    "fell_df = pd.DataFrame(fell_encoded, columns=te.columns_)\n",
    "\n",
    "# Generate frequent itemsets and association rules\n",
    "fell_itemsets = apriori(fell_df, min_support=0.05, use_colnames=True)\n",
    "fell_rules = association_rules(fell_itemsets, metric=\"lift\", min_threshold=1.0, num_itemsets=len(fell_encoded))\n",
    "\n",
    "print(\"Top Rules for 'Fell' Meteorites:\")\n",
    "print(fell_rules[['antecedents', 'consequents', 'support', 'confidence', 'lift']].sort_values(by='lift', ascending=False).head())\n"
   ]
  },
  {
   "cell_type": "markdown",
   "metadata": {},
   "source": [
    "End of Notebook"
   ]
  }
 ],
 "metadata": {
  "kernelspec": {
   "display_name": "Python 3",
   "language": "python",
   "name": "python3"
  },
  "language_info": {
   "codemirror_mode": {
    "name": "ipython",
    "version": 3
   },
   "file_extension": ".py",
   "mimetype": "text/x-python",
   "name": "python",
   "nbconvert_exporter": "python",
   "pygments_lexer": "ipython3",
   "version": "3.11.5"
  }
 },
 "nbformat": 4,
 "nbformat_minor": 2
}
